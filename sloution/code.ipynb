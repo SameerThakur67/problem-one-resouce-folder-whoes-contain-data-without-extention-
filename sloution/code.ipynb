{
 "cells": [
  {
   "cell_type": "code",
   "execution_count": 18,
   "id": "dc9dce8d",
   "metadata": {},
   "outputs": [
    {
     "name": "stdout",
     "output_type": "stream",
     "text": [
      "fu_nep4ihzkmjgpru5\n",
      "fu_q3xrvvi4bkvscm6\n",
      "fu_f4pa8kh9wyy79sa\n",
      "fu_yhqs6gmrkgereaj\n",
      "fu_iv8ti2kd6y8vxsp\n",
      "fu_2mvfxnu5ynamz9v\n",
      "fu_8dy8rqp5j22ykct\n",
      "fu_eyk8v22t277d6ut\n",
      "fu_6aeazyp64ssgm7u\n",
      "fu_vvutwbk95b4acbj\n",
      "fu_apafwu7sc82j7zt\n",
      "fu_mv2k9bkzcmp3rru\n",
      "fu_qv6zg9mfguikxvq\n",
      "fu_cw8hxek54t9xtvn\n",
      "fu_kz999sese2a3ara\n",
      "fu_kxcyv7rpngzh5az\n",
      "fu_en34wdarexfeevi\n",
      "fu_ehfa6cgmb8672u2\n",
      "fu_vw98j82d9eejqaa\n",
      "fu_i6gr4chpw44g33r\n",
      "fu_h66h3mg3eqnu22z\n",
      "fu_rf4ztvnzdrk34ji\n",
      "fu_5q4z3jywyhq7j6s\n",
      "fu_37wmbx4sgfv474y\n"
     ]
    }
   ],
   "source": [
    "Row_data=[[{ \"title\":\"\",\"comment\":\"\",\"size\":13.8076171875,\"name\":\"cpu.png\",\"filename\":\"fu_nep4ihzkmjgpru5\",\"ext\":\"png\" }],\n",
    "[{ \"title\":\"\",\"comment\":\"\",\"size\":550.8720703125,\"name\":\"hyunwon-jang-LYK3ksSQyeo-unsplash.jpg\",\"filename\":\"fu_q3xrvvi4bkvscm6\",\"ext\":\"jpg\" }],\n",
    "[{ \"title\":\"\",\"comment\":\"\",\"size\":791.466796875,\"name\":\"Gemini-Generated-Image-62i75b62i75b62i7.png\",\"filename\":\"fu_f4pa8kh9wyy79sa\",\"ext\":\"png\" }],\n",
    "[{ \"title\":\"\",\"comment\":\"\",\"size\":931.20703125,\"name\":\"g3.png\",\"filename\":\"fu_yhqs6gmrkgereaj\",\"ext\":\"png\" }],\n",
    "[{ \"title\":\"\",\"comment\":\"\",\"size\":220.2958984375,\"name\":\"Siddhant-Ahuja-Resume-29-1-3.pdf\",\"filename\":\"fu_iv8ti2kd6y8vxsp\",\"ext\":\"pdf\" }],\n",
    "[{ \"title\":\"\",\"comment\":\"\",\"size\":18.158203125,\"name\":\"Capture.PNG\",\"filename\":\"fu_2mvfxnu5ynamz9v\",\"ext\":\"png\" }],\n",
    "[{ \"title\":\"\",\"comment\":\"\",\"size\":550.8720703125,\"name\":\"hyunwon-jang-LYK3ksSQyeo-unsplash.jpg\",\"filename\":\"fu_8dy8rqp5j22ykct\",\"ext\":\"jpg\" }],\n",
    "[{ \"title\":\"\",\"comment\":\"\",\"size\":7.505859375,\"name\":\"smartphonec.png\",\"filename\":\"fu_eyk8v22t277d6ut\",\"ext\":\"png\" }],\n",
    "[{ \"title\":\"\",\"comment\":\"\",\"size\":550.8720703125,\"name\":\"hyunwon-jang-LYK3ksSQyeo-unsplash.jpg\",\"filename\":\"fu_6aeazyp64ssgm7u\",\"ext\":\"jpg\" }],\n",
    "[{ \"title\":\"\",\"comment\":\"\",\"size\":8755.3046875,\"name\":\"17582588787674383269752465203491.jpg\",\"filename\":\"fu_vvutwbk95b4acbj\",\"ext\":\"jpg\" }],\n",
    "[{ \"title\":\"\",\"comment\":\"\",\"size\":2469.583984375,\"name\":\"image.jpg\",\"filename\":\"fu_apafwu7sc82j7zt\",\"ext\":\"jpg\" }],\n",
    "[{ \"title\":\"\",\"comment\":\"\",\"size\":827.9013671875,\"name\":\"g1.png\",\"filename\":\"fu_mv2k9bkzcmp3rru\",\"ext\":\"png\" }],\n",
    "[{ \"title\":\"\",\"comment\":\"\",\"size\":4453.2900390625,\"name\":\"17585550460941555909431409909245.jpg\",\"filename\":\"fu_qv6zg9mfguikxvq\",\"ext\":\"jpg\" }],\n",
    "[{ \"title\":\"\",\"comment\":\"\",\"size\":2396.96484375,\"name\":\"17585553245837445013903840278474.jpg\",\"filename\":\"fu_cw8hxek54t9xtvn\",\"ext\":\"jpg\" }],\n",
    "[{ \"title\":\"\",\"comment\":\"\",\"size\":2318.1845703125,\"name\":\"17585554581758855637167041694392.jpg\",\"filename\":\"fu_kz999sese2a3ara\",\"ext\":\"jpg\" }],\n",
    "[{ \"title\":\"\",\"comment\":\"\",\"size\":2987.6025390625,\"name\":\"17585556681715242005138657877730.jpg\",\"filename\":\"fu_kxcyv7rpngzh5az\",\"ext\":\"jpg\" }],\n",
    "[{ \"title\":\"\",\"comment\":\"\",\"size\":148.5751953125,\"name\":\"IMG-20250928-WA0006.jpg\",\"filename\":\"fu_en34wdarexfeevi\",\"ext\":\"jpg\" }],\n",
    "[{ \"title\":\"\",\"comment\":\"\",\"size\":58.0361328125,\"name\":\"IMG-20250928-WA0010.jpg\",\"filename\":\"fu_ehfa6cgmb8672u2\",\"ext\":\"jpg\" }],\n",
    "[{ \"title\":\"\",\"comment\":\"\",\"size\":55.7236328125,\"name\":\"IMG-20250928-WA0015.jpg\",\"filename\":\"fu_vw98j82d9eejqaa\",\"ext\":\"jpg\" }],\n",
    "[{ \"title\":\"\",\"comment\":\"\",\"size\":50.9638671875,\"name\":\"IMG-20250928-WA0014.jpg\",\"filename\":\"fu_i6gr4chpw44g33r\",\"ext\":\"jpg\" }],\n",
    "[{ \"title\":\"\",\"comment\":\"\",\"size\":57.009765625,\"name\":\"IMG-20250928-WA0013.jpg\",\"filename\":\"fu_h66h3mg3eqnu22z\",\"ext\":\"jpg\" }],\n",
    "[{ \"title\":\"\",\"comment\":\"\",\"size\":57.009765625,\"name\":\"IMG-20250928-WA0013.jpg\",\"filename\":\"fu_rf4ztvnzdrk34ji\",\"ext\":\"jpg\" }],\n",
    "[{ \"title\":\"\",\"comment\":\"\",\"size\":50.8837890625,\"name\":\"IMG-20250928-WA0012.jpg\",\"filename\":\"fu_5q4z3jywyhq7j6s\",\"ext\":\"jpg\" }],\n",
    "[{ \"title\":\"\",\"comment\":\"\",\"size\":54.86328125,\"name\":\"IMG-20250928-WA0011.jpg\",\"filename\":\"fu_37wmbx4sgfv474y\",\"ext\":\"jpg\" }]]\n",
    "\n",
    "for data in Row_data:\n",
    "    print(data[0][\"filename\"])\n",
    "\n"
   ]
  },
  {
   "cell_type": "code",
   "execution_count": 39,
   "id": "01747590",
   "metadata": {},
   "outputs": [
    {
     "name": "stdout",
     "output_type": "stream",
     "text": [
      "Copied files\\fu_2mvfxnu5ynamz9v to output_folders\\fu_2mvfxnu5ynamz9v.png\n",
      "Copied files\\fu_37wmbx4sgfv474y to output_folders\\fu_37wmbx4sgfv474y.jpg\n",
      "Copied files\\fu_5q4z3jywyhq7j6s to output_folders\\fu_5q4z3jywyhq7j6s.jpg\n",
      "Copied files\\fu_6aeazyp64ssgm7u to output_folders\\fu_6aeazyp64ssgm7u.jpg\n",
      "Copied files\\fu_8dy8rqp5j22ykct to output_folders\\fu_8dy8rqp5j22ykct.jpg\n",
      "Copied files\\fu_apafwu7sc82j7zt to output_folders\\fu_apafwu7sc82j7zt.jpg\n",
      "Copied files\\fu_cw8hxek54t9xtvn to output_folders\\fu_cw8hxek54t9xtvn.jpg\n",
      "Copied files\\fu_ehfa6cgmb8672u2 to output_folders\\fu_ehfa6cgmb8672u2.jpg\n",
      "Copied files\\fu_en34wdarexfeevi to output_folders\\fu_en34wdarexfeevi.jpg\n",
      "Copied files\\fu_eyk8v22t277d6ut to output_folders\\fu_eyk8v22t277d6ut.png\n",
      "Copied files\\fu_f4pa8kh9wyy79sa to output_folders\\fu_f4pa8kh9wyy79sa.png\n",
      "Copied files\\fu_h66h3mg3eqnu22z to output_folders\\fu_h66h3mg3eqnu22z.jpg\n",
      "Copied files\\fu_i6gr4chpw44g33r to output_folders\\fu_i6gr4chpw44g33r.jpg\n",
      "Copied files\\fu_iv8ti2kd6y8vxsp to output_folders\\fu_iv8ti2kd6y8vxsp.pdf\n",
      "Copied files\\fu_kxcyv7rpngzh5az to output_folders\\fu_kxcyv7rpngzh5az.jpg\n",
      "Copied files\\fu_kz999sese2a3ara to output_folders\\fu_kz999sese2a3ara.jpg\n",
      "Copied files\\fu_mv2k9bkzcmp3rru to output_folders\\fu_mv2k9bkzcmp3rru.png\n",
      "Copied files\\fu_nep4ihzkmjgpru5 to output_folders\\fu_nep4ihzkmjgpru5.png\n",
      "Copied files\\fu_q3xrvvi4bkvscm6 to output_folders\\fu_q3xrvvi4bkvscm6.jpg\n",
      "Copied files\\fu_qv6zg9mfguikxvq to output_folders\\fu_qv6zg9mfguikxvq.jpg\n",
      "Copied files\\fu_rf4ztvnzdrk34ji to output_folders\\fu_rf4ztvnzdrk34ji.jpg\n",
      "Copied files\\fu_vvutwbk95b4acbj to output_folders\\fu_vvutwbk95b4acbj.jpg\n",
      "Copied files\\fu_vw98j82d9eejqaa to output_folders\\fu_vw98j82d9eejqaa.jpg\n",
      "Copied files\\fu_yhqs6gmrkgereaj to output_folders\\fu_yhqs6gmrkgereaj.png\n"
     ]
    }
   ],
   "source": [
    "import os\n",
    "import shutil\n",
    "\n",
    "folder_path = r'files'  # Folder with original files\n",
    "output_base_folder = r'output_folders'  # Ek hi folder jahaan sab files rakhenge\n",
    "\n",
    "# Sure karlein yeh folder exist karta hai, agar nahi toh bana dein\n",
    "os.makedirs(output_base_folder, exist_ok=True)\n",
    "\n",
    "items = os.listdir(folder_path)\n",
    "\n",
    "for item in items:\n",
    "    for data in Row_data:\n",
    "        if data[0][\"filename\"] == item:\n",
    "            # Source file ka full path\n",
    "            src_file_path = os.path.join(folder_path, item)\n",
    "            \n",
    "            # Destination file ke liye filename ke saath extension add karna\n",
    "            dest_file_name = item + '.' + data[0][\"ext\"]\n",
    "            \n",
    "            # Destination file ka full path output folder mein\n",
    "            dest_file_path = os.path.join(output_base_folder, dest_file_name)\n",
    "            \n",
    "            # Source file ko destination folder mein copy karo\n",
    "            shutil.copy2(src_file_path, dest_file_path)\n",
    "            \n",
    "            print(f\"Copied {src_file_path} to {dest_file_path}\")\n"
   ]
  },
  {
   "cell_type": "code",
   "execution_count": null,
   "id": "7a2716bb",
   "metadata": {},
   "outputs": [],
   "source": []
  }
 ],
 "metadata": {
  "kernelspec": {
   "display_name": "Python 3",
   "language": "python",
   "name": "python3"
  },
  "language_info": {
   "codemirror_mode": {
    "name": "ipython",
    "version": 3
   },
   "file_extension": ".py",
   "mimetype": "text/x-python",
   "name": "python",
   "nbconvert_exporter": "python",
   "pygments_lexer": "ipython3",
   "version": "3.11.5"
  }
 },
 "nbformat": 4,
 "nbformat_minor": 5
}
